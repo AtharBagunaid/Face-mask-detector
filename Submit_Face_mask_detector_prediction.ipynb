{
  "nbformat": 4,
  "nbformat_minor": 0,
  "metadata": {
    "colab": {
      "name": "Submit - Face mask detector prediction.ipynb",
      "provenance": [],
      "collapsed_sections": [],
      "mount_file_id": "157BQhfpRf3KF0yEZLucPH0HOArR7tQyR",
      "authorship_tag": "ABX9TyO3kQGTbo2/A7z32m6jdzz7",
      "include_colab_link": true
    },
    "kernelspec": {
      "name": "python3",
      "display_name": "Python 3"
    },
    "accelerator": "GPU"
  },
  "cells": [
    {
      "cell_type": "markdown",
      "metadata": {
        "id": "view-in-github",
        "colab_type": "text"
      },
      "source": [
        "<a href=\"https://colab.research.google.com/github/AtharBagunaid/Face-mask-detector/blob/main/Submit_Face_mask_detector_prediction.ipynb\" target=\"_parent\"><img src=\"https://colab.research.google.com/assets/colab-badge.svg\" alt=\"Open In Colab\"/></a>"
      ]
    },
    {
      "cell_type": "code",
      "metadata": {
        "id": "_PtS3YS8hO6F"
      },
      "source": [
        "import os\r\n",
        "import numpy as np\r\n",
        "import keras\r\n",
        "from keras import backend as K\r\n",
        "from keras.models import Sequential\r\n",
        "from keras.models import Model\r\n",
        "from keras.layers import Activation\r\n",
        "from keras.layers.core import Dense, Flatten\r\n",
        "from keras.optimizers import Adam\r\n",
        "from keras.metrics import categorical_crossentropy\r\n",
        "from keras.preprocessing.image import ImageDataGenerator\r\n",
        "from keras.layers.normalization import BatchNormalization\r\n",
        "from keras.layers.convolutional import *\r\n",
        "from matplotlib import pyplot as plt\r\n",
        "from sklearn.metrics import confusion_matrix\r\n",
        "import itertools\r\n",
        "import matplotlib.pyplot as plt"
      ],
      "execution_count": null,
      "outputs": []
    },
    {
      "cell_type": "code",
      "metadata": {
        "id": "RfwOX2olkqzQ"
      },
      "source": [
        "test_path = \"/content/drive/MyDrive/Colab Notebooks/DIP/Mask_detection/test\""
      ],
      "execution_count": null,
      "outputs": []
    },
    {
      "cell_type": "code",
      "metadata": {
        "colab": {
          "base_uri": "https://localhost:8080/"
        },
        "id": "_ZtxfhCgkvTK",
        "outputId": "1c80f20b-db7e-4d75-f070-f3de84256ee9"
      },
      "source": [
        "test_batches = ImageDataGenerator().flow_from_directory(test_path, target_size = (224,224), classes = ['with_mask', 'without_mask'], batch_size = 200, class_mode = 'categorical')"
      ],
      "execution_count": null,
      "outputs": [
        {
          "output_type": "stream",
          "text": [
            "Found 2234 images belonging to 2 classes.\n"
          ],
          "name": "stdout"
        }
      ]
    },
    {
      "cell_type": "code",
      "metadata": {
        "id": "MuvkMgasDGUi",
        "colab": {
          "base_uri": "https://localhost:8080/"
        },
        "outputId": "9897ca4d-f0e3-4f99-8301-bf953d5cb46d"
      },
      "source": [
        "test_images, test_labels = next(test_batches)\r\n",
        "test_labels"
      ],
      "execution_count": null,
      "outputs": [
        {
          "output_type": "stream",
          "text": [
            "/usr/local/lib/python3.6/dist-packages/PIL/Image.py:932: UserWarning: Palette images with Transparency expressed in bytes should be converted to RGBA images\n",
            "  \"Palette images with Transparency expressed in bytes should be \"\n"
          ],
          "name": "stderr"
        },
        {
          "output_type": "execute_result",
          "data": {
            "text/plain": [
              "array([[0., 1.],\n",
              "       [1., 0.],\n",
              "       [0., 1.],\n",
              "       [0., 1.],\n",
              "       [1., 0.],\n",
              "       [1., 0.],\n",
              "       [1., 0.],\n",
              "       [1., 0.],\n",
              "       [1., 0.],\n",
              "       [0., 1.],\n",
              "       [1., 0.],\n",
              "       [0., 1.],\n",
              "       [0., 1.],\n",
              "       [1., 0.],\n",
              "       [0., 1.],\n",
              "       [0., 1.],\n",
              "       [1., 0.],\n",
              "       [0., 1.],\n",
              "       [0., 1.],\n",
              "       [0., 1.],\n",
              "       [0., 1.],\n",
              "       [1., 0.],\n",
              "       [1., 0.],\n",
              "       [1., 0.],\n",
              "       [1., 0.],\n",
              "       [0., 1.],\n",
              "       [1., 0.],\n",
              "       [1., 0.],\n",
              "       [0., 1.],\n",
              "       [1., 0.],\n",
              "       [0., 1.],\n",
              "       [1., 0.],\n",
              "       [0., 1.],\n",
              "       [0., 1.],\n",
              "       [1., 0.],\n",
              "       [0., 1.],\n",
              "       [1., 0.],\n",
              "       [1., 0.],\n",
              "       [0., 1.],\n",
              "       [1., 0.],\n",
              "       [0., 1.],\n",
              "       [0., 1.],\n",
              "       [0., 1.],\n",
              "       [1., 0.],\n",
              "       [0., 1.],\n",
              "       [1., 0.],\n",
              "       [1., 0.],\n",
              "       [1., 0.],\n",
              "       [1., 0.],\n",
              "       [0., 1.],\n",
              "       [1., 0.],\n",
              "       [0., 1.],\n",
              "       [0., 1.],\n",
              "       [0., 1.],\n",
              "       [1., 0.],\n",
              "       [0., 1.],\n",
              "       [1., 0.],\n",
              "       [0., 1.],\n",
              "       [0., 1.],\n",
              "       [1., 0.],\n",
              "       [0., 1.],\n",
              "       [0., 1.],\n",
              "       [0., 1.],\n",
              "       [0., 1.],\n",
              "       [0., 1.],\n",
              "       [0., 1.],\n",
              "       [0., 1.],\n",
              "       [0., 1.],\n",
              "       [0., 1.],\n",
              "       [1., 0.],\n",
              "       [0., 1.],\n",
              "       [0., 1.],\n",
              "       [0., 1.],\n",
              "       [1., 0.],\n",
              "       [1., 0.],\n",
              "       [1., 0.],\n",
              "       [1., 0.],\n",
              "       [0., 1.],\n",
              "       [0., 1.],\n",
              "       [0., 1.],\n",
              "       [1., 0.],\n",
              "       [0., 1.],\n",
              "       [0., 1.],\n",
              "       [1., 0.],\n",
              "       [0., 1.],\n",
              "       [1., 0.],\n",
              "       [0., 1.],\n",
              "       [0., 1.],\n",
              "       [1., 0.],\n",
              "       [1., 0.],\n",
              "       [1., 0.],\n",
              "       [0., 1.],\n",
              "       [1., 0.],\n",
              "       [0., 1.],\n",
              "       [1., 0.],\n",
              "       [1., 0.],\n",
              "       [0., 1.],\n",
              "       [0., 1.],\n",
              "       [0., 1.],\n",
              "       [1., 0.],\n",
              "       [0., 1.],\n",
              "       [0., 1.],\n",
              "       [0., 1.],\n",
              "       [0., 1.],\n",
              "       [0., 1.],\n",
              "       [0., 1.],\n",
              "       [0., 1.],\n",
              "       [1., 0.],\n",
              "       [1., 0.],\n",
              "       [0., 1.],\n",
              "       [1., 0.],\n",
              "       [0., 1.],\n",
              "       [1., 0.],\n",
              "       [1., 0.],\n",
              "       [0., 1.],\n",
              "       [1., 0.],\n",
              "       [0., 1.],\n",
              "       [0., 1.],\n",
              "       [1., 0.],\n",
              "       [1., 0.],\n",
              "       [1., 0.],\n",
              "       [1., 0.],\n",
              "       [1., 0.],\n",
              "       [1., 0.],\n",
              "       [1., 0.],\n",
              "       [1., 0.],\n",
              "       [0., 1.],\n",
              "       [1., 0.],\n",
              "       [1., 0.],\n",
              "       [1., 0.],\n",
              "       [1., 0.],\n",
              "       [0., 1.],\n",
              "       [1., 0.],\n",
              "       [0., 1.],\n",
              "       [1., 0.],\n",
              "       [1., 0.],\n",
              "       [0., 1.],\n",
              "       [1., 0.],\n",
              "       [0., 1.],\n",
              "       [1., 0.],\n",
              "       [1., 0.],\n",
              "       [1., 0.],\n",
              "       [1., 0.],\n",
              "       [0., 1.],\n",
              "       [0., 1.],\n",
              "       [1., 0.],\n",
              "       [0., 1.],\n",
              "       [1., 0.],\n",
              "       [0., 1.],\n",
              "       [0., 1.],\n",
              "       [0., 1.],\n",
              "       [0., 1.],\n",
              "       [1., 0.],\n",
              "       [0., 1.],\n",
              "       [1., 0.],\n",
              "       [0., 1.],\n",
              "       [0., 1.],\n",
              "       [0., 1.],\n",
              "       [0., 1.],\n",
              "       [1., 0.],\n",
              "       [1., 0.],\n",
              "       [0., 1.],\n",
              "       [1., 0.],\n",
              "       [0., 1.],\n",
              "       [1., 0.],\n",
              "       [1., 0.],\n",
              "       [1., 0.],\n",
              "       [0., 1.],\n",
              "       [1., 0.],\n",
              "       [1., 0.],\n",
              "       [1., 0.],\n",
              "       [1., 0.],\n",
              "       [0., 1.],\n",
              "       [0., 1.],\n",
              "       [0., 1.],\n",
              "       [1., 0.],\n",
              "       [1., 0.],\n",
              "       [0., 1.],\n",
              "       [1., 0.],\n",
              "       [1., 0.],\n",
              "       [1., 0.],\n",
              "       [1., 0.],\n",
              "       [0., 1.],\n",
              "       [1., 0.],\n",
              "       [1., 0.],\n",
              "       [0., 1.],\n",
              "       [1., 0.],\n",
              "       [0., 1.],\n",
              "       [0., 1.],\n",
              "       [0., 1.],\n",
              "       [1., 0.],\n",
              "       [0., 1.],\n",
              "       [0., 1.],\n",
              "       [0., 1.],\n",
              "       [0., 1.],\n",
              "       [1., 0.],\n",
              "       [1., 0.],\n",
              "       [0., 1.],\n",
              "       [0., 1.],\n",
              "       [1., 0.]], dtype=float32)"
            ]
          },
          "metadata": {
            "tags": []
          },
          "execution_count": 4
        }
      ]
    },
    {
      "cell_type": "code",
      "metadata": {
        "colab": {
          "base_uri": "https://localhost:8080/"
        },
        "id": "NUlQllYQ80M0",
        "outputId": "3044663c-3026-4c34-de3b-0b5960c087b2"
      },
      "source": [
        "test_labels = test_labels[:,0]\r\n",
        "test_labels"
      ],
      "execution_count": null,
      "outputs": [
        {
          "output_type": "execute_result",
          "data": {
            "text/plain": [
              "array([0., 1., 0., 0., 1., 1., 1., 1., 1., 0., 1., 0., 0., 1., 0., 0., 1.,\n",
              "       0., 0., 0., 0., 1., 1., 1., 1., 0., 1., 1., 0., 1., 0., 1., 0., 0.,\n",
              "       1., 0., 1., 1., 0., 1., 0., 0., 0., 1., 0., 1., 1., 1., 1., 0., 1.,\n",
              "       0., 0., 0., 1., 0., 1., 0., 0., 1., 0., 0., 0., 0., 0., 0., 0., 0.,\n",
              "       0., 1., 0., 0., 0., 1., 1., 1., 1., 0., 0., 0., 1., 0., 0., 1., 0.,\n",
              "       1., 0., 0., 1., 1., 1., 0., 1., 0., 1., 1., 0., 0., 0., 1., 0., 0.,\n",
              "       0., 0., 0., 0., 0., 1., 1., 0., 1., 0., 1., 1., 0., 1., 0., 0., 1.,\n",
              "       1., 1., 1., 1., 1., 1., 1., 0., 1., 1., 1., 1., 0., 1., 0., 1., 1.,\n",
              "       0., 1., 0., 1., 1., 1., 1., 0., 0., 1., 0., 1., 0., 0., 0., 0., 1.,\n",
              "       0., 1., 0., 0., 0., 0., 1., 1., 0., 1., 0., 1., 1., 1., 0., 1., 1.,\n",
              "       1., 1., 0., 0., 0., 1., 1., 0., 1., 1., 1., 1., 0., 1., 1., 0., 1.,\n",
              "       0., 0., 0., 1., 0., 0., 0., 0., 1., 1., 0., 0., 1.], dtype=float32)"
            ]
          },
          "metadata": {
            "tags": []
          },
          "execution_count": 5
        }
      ]
    },
    {
      "cell_type": "code",
      "metadata": {
        "id": "olkSjHULhldP"
      },
      "source": [
        "vgg16_model = keras.applications.vgg16.VGG16()\r\n",
        "\r\n",
        "model = Sequential()\r\n",
        "for layer in vgg16_model.layers[:-1]:\r\n",
        "  model.add(layer)\r\n",
        "\r\n",
        "# Freeze the layers \r\n",
        "for layer in model.layers:\r\n",
        "    layer.trainable = False\r\n",
        "\r\n",
        "# Add 'softmax' instead of earlier 'prediction' layer.\r\n",
        "model.add(Dense(2, activation='softmax'))"
      ],
      "execution_count": null,
      "outputs": []
    },
    {
      "cell_type": "code",
      "metadata": {
        "id": "7fhSPqKLhr83"
      },
      "source": [
        "model.summary()"
      ],
      "execution_count": null,
      "outputs": []
    },
    {
      "cell_type": "code",
      "metadata": {
        "id": "YFO6XvH8h1Cz"
      },
      "source": [
        "model.load_weights('/content/drive/My Drive/Colab Notebooks/faceMask_detection.h5')"
      ],
      "execution_count": null,
      "outputs": []
    },
    {
      "cell_type": "code",
      "metadata": {
        "colab": {
          "base_uri": "https://localhost:8080/"
        },
        "id": "HeA2fMytlH6E",
        "outputId": "64c314f1-8610-47b7-90ae-7f06c14a7535"
      },
      "source": [
        "predictions = model.predict(test_batches, steps = 1, verbose = 0)\r\n",
        "predictions"
      ],
      "execution_count": null,
      "outputs": [
        {
          "output_type": "stream",
          "text": [
            "/usr/local/lib/python3.6/dist-packages/PIL/Image.py:932: UserWarning: Palette images with Transparency expressed in bytes should be converted to RGBA images\n",
            "  \"Palette images with Transparency expressed in bytes should be \"\n"
          ],
          "name": "stderr"
        },
        {
          "output_type": "execute_result",
          "data": {
            "text/plain": [
              "array([[9.75093644e-06, 9.99990225e-01],\n",
              "       [9.97600853e-01, 2.39921059e-03],\n",
              "       [5.09167206e-04, 9.99490857e-01],\n",
              "       [3.67417088e-05, 9.99963284e-01],\n",
              "       [2.51101330e-03, 9.97488976e-01],\n",
              "       [9.98336911e-01, 1.66310463e-03],\n",
              "       [1.83063343e-01, 8.16936672e-01],\n",
              "       [8.70232940e-01, 1.29767016e-01],\n",
              "       [9.99562919e-01, 4.37036826e-04],\n",
              "       [2.49629910e-03, 9.97503698e-01],\n",
              "       [6.27686560e-01, 3.72313470e-01],\n",
              "       [1.19187127e-04, 9.99880791e-01],\n",
              "       [5.42107155e-04, 9.99457896e-01],\n",
              "       [9.88487005e-01, 1.15130097e-02],\n",
              "       [3.36719811e-01, 6.63280189e-01],\n",
              "       [2.22544628e-03, 9.97774541e-01],\n",
              "       [9.99960065e-01, 3.99203709e-05],\n",
              "       [1.04541872e-02, 9.89545763e-01],\n",
              "       [2.40863461e-04, 9.99759138e-01],\n",
              "       [1.85251395e-06, 9.99998093e-01],\n",
              "       [2.92585883e-05, 9.99970794e-01],\n",
              "       [9.97244716e-01, 2.75533507e-03],\n",
              "       [9.99766529e-01, 2.33418308e-04],\n",
              "       [4.71259385e-01, 5.28740644e-01],\n",
              "       [9.24020767e-01, 7.59792477e-02],\n",
              "       [5.42899397e-05, 9.99945760e-01],\n",
              "       [9.99786794e-01, 2.13165389e-04],\n",
              "       [4.55736756e-01, 5.44263303e-01],\n",
              "       [2.71586887e-05, 9.99972820e-01],\n",
              "       [4.31958646e-01, 5.68041325e-01],\n",
              "       [9.07751545e-03, 9.90922511e-01],\n",
              "       [9.99278724e-01, 7.21244724e-04],\n",
              "       [1.33020664e-03, 9.98669863e-01],\n",
              "       [6.07444099e-06, 9.99993920e-01],\n",
              "       [9.99996185e-01, 3.87013506e-06],\n",
              "       [4.22342797e-04, 9.99577701e-01],\n",
              "       [9.80266035e-01, 1.97339971e-02],\n",
              "       [9.99625087e-01, 3.74909607e-04],\n",
              "       [1.56878784e-01, 8.43121231e-01],\n",
              "       [9.67222452e-01, 3.27775702e-02],\n",
              "       [1.93808592e-04, 9.99806225e-01],\n",
              "       [2.67385127e-04, 9.99732554e-01],\n",
              "       [3.25703382e-04, 9.99674320e-01],\n",
              "       [9.99702632e-01, 2.97387189e-04],\n",
              "       [1.60051801e-04, 9.99839902e-01],\n",
              "       [3.86488616e-01, 6.13511443e-01],\n",
              "       [9.99718845e-01, 2.81108980e-04],\n",
              "       [9.99999881e-01, 6.34342854e-08],\n",
              "       [5.18760204e-01, 4.81239736e-01],\n",
              "       [1.80043187e-02, 9.81995702e-01],\n",
              "       [9.95618999e-01, 4.38103033e-03],\n",
              "       [2.00175704e-03, 9.97998178e-01],\n",
              "       [2.50747688e-02, 9.74925280e-01],\n",
              "       [3.69903329e-03, 9.96300936e-01],\n",
              "       [9.82017100e-01, 1.79828741e-02],\n",
              "       [8.87631031e-04, 9.99112308e-01],\n",
              "       [9.99777853e-01, 2.22145274e-04],\n",
              "       [1.86024427e-01, 8.13975513e-01],\n",
              "       [1.32757416e-02, 9.86724317e-01],\n",
              "       [9.98555362e-01, 1.44461531e-03],\n",
              "       [4.32783086e-03, 9.95672226e-01],\n",
              "       [6.43444899e-03, 9.93565500e-01],\n",
              "       [3.19601022e-05, 9.99968052e-01],\n",
              "       [9.47251567e-04, 9.99052703e-01],\n",
              "       [5.47762169e-03, 9.94522333e-01],\n",
              "       [8.67414929e-05, 9.99913216e-01],\n",
              "       [2.55205296e-03, 9.97447968e-01],\n",
              "       [1.06179059e-05, 9.99989390e-01],\n",
              "       [1.97255360e-07, 9.99999762e-01],\n",
              "       [9.99199331e-01, 8.00651382e-04],\n",
              "       [5.76931760e-02, 9.42306876e-01],\n",
              "       [9.39062517e-03, 9.90609407e-01],\n",
              "       [1.32856963e-04, 9.99867082e-01],\n",
              "       [9.93981659e-01, 6.01833966e-03],\n",
              "       [9.99998450e-01, 1.51058020e-06],\n",
              "       [9.99749720e-01, 2.50307494e-04],\n",
              "       [9.99568522e-01, 4.31430934e-04],\n",
              "       [1.12969102e-03, 9.98870313e-01],\n",
              "       [8.47785341e-05, 9.99915242e-01],\n",
              "       [3.16615822e-03, 9.96833861e-01],\n",
              "       [9.99817431e-01, 1.82551521e-04],\n",
              "       [1.61097560e-04, 9.99838829e-01],\n",
              "       [1.74766717e-06, 9.99998212e-01],\n",
              "       [9.99811828e-01, 1.88180828e-04],\n",
              "       [2.48485198e-03, 9.97515202e-01],\n",
              "       [9.97554958e-01, 2.44503655e-03],\n",
              "       [5.40790905e-04, 9.99459207e-01],\n",
              "       [3.91371779e-09, 1.00000000e+00],\n",
              "       [5.03312647e-01, 4.96687353e-01],\n",
              "       [5.66320002e-01, 4.33679968e-01],\n",
              "       [9.95122373e-01, 4.87766741e-03],\n",
              "       [1.34597794e-04, 9.99865413e-01],\n",
              "       [9.99852538e-01, 1.47493774e-04],\n",
              "       [1.53251423e-03, 9.98467505e-01],\n",
              "       [8.87259781e-01, 1.12740248e-01],\n",
              "       [9.99992490e-01, 7.51067864e-06],\n",
              "       [8.11487436e-01, 1.88512579e-01],\n",
              "       [2.58374721e-01, 7.41625249e-01],\n",
              "       [1.68798200e-04, 9.99831200e-01],\n",
              "       [7.23147094e-01, 2.76852936e-01],\n",
              "       [1.48985209e-03, 9.98510182e-01],\n",
              "       [2.24284572e-03, 9.97757137e-01],\n",
              "       [8.19923263e-03, 9.91800725e-01],\n",
              "       [1.40124466e-03, 9.98598754e-01],\n",
              "       [1.05467655e-01, 8.94532382e-01],\n",
              "       [8.68853107e-02, 9.13114667e-01],\n",
              "       [1.38612732e-01, 8.61387312e-01],\n",
              "       [2.64108628e-02, 9.73589182e-01],\n",
              "       [8.61945868e-01, 1.38054177e-01],\n",
              "       [1.25208026e-04, 9.99874830e-01],\n",
              "       [2.80340284e-01, 7.19659686e-01],\n",
              "       [3.77388448e-02, 9.62261200e-01],\n",
              "       [7.35178828e-01, 2.64821202e-01],\n",
              "       [7.45961308e-01, 2.54038692e-01],\n",
              "       [8.42757290e-05, 9.99915719e-01],\n",
              "       [5.96648932e-01, 4.03351098e-01],\n",
              "       [3.97084747e-03, 9.96029139e-01],\n",
              "       [2.48497501e-02, 9.75150228e-01],\n",
              "       [9.24117148e-01, 7.58828521e-02],\n",
              "       [9.72993076e-01, 2.70069465e-02],\n",
              "       [5.84312439e-01, 4.15687531e-01],\n",
              "       [9.99999404e-01, 6.41018971e-07],\n",
              "       [9.61999655e-01, 3.80004011e-02],\n",
              "       [9.85708594e-01, 1.42914224e-02],\n",
              "       [9.94737446e-01, 5.26254904e-03],\n",
              "       [9.99979734e-01, 2.02892916e-05],\n",
              "       [6.62711486e-02, 9.33728874e-01],\n",
              "       [9.99391913e-01, 6.08123140e-04],\n",
              "       [9.99848843e-01, 1.51172775e-04],\n",
              "       [9.98973966e-01, 1.02600583e-03],\n",
              "       [9.99891281e-01, 1.08757340e-04],\n",
              "       [1.85983477e-03, 9.98140216e-01],\n",
              "       [9.87168670e-01, 1.28313452e-02],\n",
              "       [5.00218477e-03, 9.94997859e-01],\n",
              "       [9.99984145e-01, 1.58307084e-05],\n",
              "       [9.99568760e-01, 4.31256194e-04],\n",
              "       [1.00827038e-01, 8.99173021e-01],\n",
              "       [9.54303324e-01, 4.56966795e-02],\n",
              "       [1.71376640e-04, 9.99828577e-01],\n",
              "       [6.34805858e-01, 3.65194172e-01],\n",
              "       [9.41863239e-01, 5.81367649e-02],\n",
              "       [3.65114331e-01, 6.34885609e-01],\n",
              "       [9.95508790e-01, 4.49122395e-03],\n",
              "       [1.76114182e-03, 9.98238802e-01],\n",
              "       [2.03838153e-03, 9.97961640e-01],\n",
              "       [9.96827185e-01, 3.17273079e-03],\n",
              "       [1.52737033e-04, 9.99847293e-01],\n",
              "       [8.64257634e-01, 1.35742396e-01],\n",
              "       [1.35521626e-03, 9.98644769e-01],\n",
              "       [9.02933069e-04, 9.99097109e-01],\n",
              "       [5.92194905e-04, 9.99407768e-01],\n",
              "       [4.69900522e-04, 9.99530077e-01],\n",
              "       [9.75656629e-01, 2.43433751e-02],\n",
              "       [1.47560831e-05, 9.99985218e-01],\n",
              "       [8.10304940e-01, 1.89695090e-01],\n",
              "       [1.97197412e-04, 9.99802768e-01],\n",
              "       [2.82161706e-03, 9.97178435e-01],\n",
              "       [7.54937112e-01, 2.45062888e-01],\n",
              "       [2.99840756e-02, 9.70015883e-01],\n",
              "       [9.41599786e-01, 5.84001839e-02],\n",
              "       [9.96581256e-01, 3.41877993e-03],\n",
              "       [9.94401395e-01, 5.59859630e-03],\n",
              "       [9.99999166e-01, 7.98738256e-07],\n",
              "       [1.92683699e-04, 9.99807298e-01],\n",
              "       [9.92384255e-01, 7.61580607e-03],\n",
              "       [9.86731172e-01, 1.32688927e-02],\n",
              "       [9.86523569e-01, 1.34765087e-02],\n",
              "       [1.62820499e-02, 9.83717978e-01],\n",
              "       [9.99333680e-01, 6.66324340e-04],\n",
              "       [9.14720178e-01, 8.52798373e-02],\n",
              "       [9.99965191e-01, 3.47932546e-05],\n",
              "       [9.86915827e-01, 1.30841322e-02],\n",
              "       [2.50211131e-04, 9.99749839e-01],\n",
              "       [1.09911038e-04, 9.99890089e-01],\n",
              "       [8.88767227e-06, 9.99991059e-01],\n",
              "       [9.99991775e-01, 8.16660213e-06],\n",
              "       [9.11492944e-01, 8.85070711e-02],\n",
              "       [9.00769699e-03, 9.90992308e-01],\n",
              "       [1.35715634e-01, 8.64284337e-01],\n",
              "       [9.99846578e-01, 1.53349480e-04],\n",
              "       [9.99896407e-01, 1.03619284e-04],\n",
              "       [7.76945576e-02, 9.22305465e-01],\n",
              "       [2.69278445e-07, 9.99999762e-01],\n",
              "       [9.46022630e-01, 5.39773852e-02],\n",
              "       [9.80765164e-01, 1.92347802e-02],\n",
              "       [1.76945949e-04, 9.99823034e-01],\n",
              "       [9.99873877e-01, 1.26149986e-04],\n",
              "       [2.70017754e-05, 9.99972939e-01],\n",
              "       [2.40913741e-05, 9.99975920e-01],\n",
              "       [2.75362795e-03, 9.97246385e-01],\n",
              "       [9.99937773e-01, 6.21748186e-05],\n",
              "       [5.02539705e-03, 9.94974613e-01],\n",
              "       [4.85857539e-02, 9.51414227e-01],\n",
              "       [1.45889923e-03, 9.98541117e-01],\n",
              "       [1.76591366e-05, 9.99982357e-01],\n",
              "       [9.99999285e-01, 7.19202262e-07],\n",
              "       [6.26573384e-01, 3.73426646e-01],\n",
              "       [7.94976135e-04, 9.99205053e-01],\n",
              "       [5.98472485e-04, 9.99401569e-01],\n",
              "       [9.79444504e-01, 2.05554962e-02]], dtype=float32)"
            ]
          },
          "metadata": {
            "tags": []
          },
          "execution_count": 8
        }
      ]
    },
    {
      "cell_type": "code",
      "metadata": {
        "id": "CDTKwap3nGqJ"
      },
      "source": [
        "def plot_confusion_matrix(cm, classes, normalize = False, title = 'confusion matrix', cmap = plt.cm.Blues):\r\n",
        "  \"\"\"\r\n",
        "  This function prints and plots the confusion matrix.\r\n",
        "  Normalization can be applied be setting 'Normalize = True'\r\n",
        "  \"\"\"\r\n",
        "  plt.imshow(cm, interpolation= 'nearest', cmap = cmap)\r\n",
        "  plt.title(title)\r\n",
        "  plt.colorbar()\r\n",
        "  tick_marks = np.arange(len(classes))\r\n",
        "  plt.xticks(tick_marks, classes, rotation = 45)\r\n",
        "  plt.yticks(tick_marks, classes)\r\n",
        "\r\n",
        "  if normalize:\r\n",
        "    cm = cm.astype('float') / cm.sum(axis = 1) [:, np.newaxis]\r\n",
        "    print('Normalized confusion matrix')\r\n",
        "  else:\r\n",
        "    print('confusion matrix, without normalization')\r\n",
        "  \r\n",
        "  print(cm)\r\n",
        "\r\n",
        "  thresh = cm.max() / 2\r\n",
        "  for i, j in itertools.product(range(cm.shape[0]), range(cm.shape[1])):\r\n",
        "    plt.text(j, i, cm[i,j], \r\n",
        "                   horizontalalignment = 'center',\r\n",
        "                   color = 'white' if cm [i,j] > thresh else 'black')\r\n",
        "    \r\n",
        "    plt.tight_layout()\r\n",
        "    plt.ylabel('True label')\r\n",
        "    plt.xlabel('Predicted label')"
      ],
      "execution_count": null,
      "outputs": []
    },
    {
      "cell_type": "code",
      "metadata": {
        "colab": {
          "base_uri": "https://localhost:8080/"
        },
        "id": "IjeyYc23nXLE",
        "outputId": "a31bc97d-5bbb-4439-dd4a-f4fb0e94f2ea"
      },
      "source": [
        "cm = confusion_matrix(test_labels, np.round(predictions[:,0]))\r\n",
        "cm_plot_labels = ['with mask', 'without mask']\r\n",
        "plot_confusion_matrix(cm, cm_plot_labels, title='Confusion Matrix')"
      ],
      "execution_count": null,
      "outputs": [
        {
          "output_type": "stream",
          "text": [
            "confusion matrix, without normalization\n",
            "[[99  3]\n",
            " [11 87]]\n"
          ],
          "name": "stdout"
        },
        {
          "output_type": "display_data",
          "data": {
            "image/png": "[encoded data removed]",
            "text/plain": [
              "<Figure size 432x288 with 2 Axes>"
            ]
          },
          "metadata": {
            "tags": [],
            "needs_background": "light"
          }
        }
      ]
    }
  ]
}